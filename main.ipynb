{
 "cells": [
  {
   "cell_type": "markdown",
   "metadata": {},
   "source": [
    "# INTRODUCTION TO PANDAS\n",
    "Pandas is a popular python library for data analysis.\n",
    "\n"
   ]
  },
  {
   "cell_type": "code",
   "execution_count": 2,
   "metadata": {},
   "outputs": [],
   "source": [
    "# import pandas \n",
    "import pandas as pd"
   ]
  },
  {
   "cell_type": "markdown",
   "metadata": {},
   "source": [
    "### Dataframe\n",
    "There are two core objects in pandas:  **Dataframe** and **Series**\n",
    "\n",
    "**Dataframe**: it is a table containing a row and column entries;\n",
    "\n",
    "- It consists of a column name/label\n",
    "- the row label (or index) are by default sequence of natural numbers (0, 1, 2 ...)\n",
    "- the columns must have the same data length"
   ]
  },
  {
   "cell_type": "code",
   "execution_count": null,
   "metadata": {},
   "outputs": [],
   "source": [
    "# create a Dataframe\n",
    "\n",
    "pd.DataFrame({'A': [1, 2, 3], 'B': [1, 4, 9], 'C': [1, 8, 27]})"
   ]
  },
  {
   "cell_type": "code",
   "execution_count": null,
   "metadata": {},
   "outputs": [],
   "source": [
    "# the row labels can be modified by using the index key in the Dataframe constructor\n",
    "\n",
    "pd.DataFrame({'A': [1, 2, 3], 'B': [1, 4, 9], 'C': [1, 8, 27]}, index=['First', 'Second', 'Third'])"
   ]
  },
  {
   "cell_type": "markdown",
   "metadata": {},
   "source": [
    "### Series\n",
    "The Series object is used to  create a single *unnamed* column\n",
    "\n",
    "- row labels can be assigned to Series objects using the index parameter\n",
    "- the Series can be given an overall name\n",
    "- a series does not have a column name"
   ]
  },
  {
   "cell_type": "code",
   "execution_count": null,
   "metadata": {},
   "outputs": [],
   "source": [
    "# creating a Series object using its constructor\n",
    "\n",
    "pd.Series([1, 2, 3, 4, 5, 6], index=['A', 'B', 'C', 'D', 'E', 'F'])"
   ]
  },
  {
   "cell_type": "code",
   "execution_count": null,
   "metadata": {},
   "outputs": [],
   "source": [
    "# adding an overall name to a series object by passing the name argument\n",
    "\n",
    "pd.Series([1, 2, 3, 4, 5, 6], index=['A', 'B', 'C', 'D', 'E', 'F'], name='Number Series')\n"
   ]
  },
  {
   "cell_type": "markdown",
   "metadata": {},
   "source": [
    "### Reading Data Files\n",
    "\n",
    "It is convinient to read data in a given file into a table format. This is achieved using the read_(file_type) method\n",
    "\n",
    "- **Using the WINE REVIEW DATASETS as an example**"
   ]
  },
  {
   "cell_type": "code",
   "execution_count": null,
   "metadata": {},
   "outputs": [],
   "source": [
    "# reading a csv formatted file and examining its content using the head method\n",
    "wine_review = pd.read_csv(\"winemag-data_first150k.csv\")\n",
    "\n",
    "wine_review.head()"
   ]
  },
  {
   "cell_type": "code",
   "execution_count": null,
   "metadata": {},
   "outputs": [],
   "source": [
    "# reading a json formatted data and examining its content using the head method\n",
    "\n",
    "wine_review_json = pd.read_json(\"winemag-data-130k-v2.json\")\n",
    "\n",
    "wine_review_json.head()"
   ]
  },
  {
   "cell_type": "markdown",
   "metadata": {},
   "source": [
    "### How large is a Dataframe object?\n",
    "\n",
    "The shape attribute can be use on a Dataframe to check its size - (row, column)\n"
   ]
  },
  {
   "cell_type": "code",
   "execution_count": null,
   "metadata": {},
   "outputs": [],
   "source": [
    "# check the size of the csv file\n",
    "\n",
    "wine_review.shape"
   ]
  },
  {
   "cell_type": "code",
   "execution_count": null,
   "metadata": {},
   "outputs": [],
   "source": [
    "# check the size of the json formatted file\n",
    "\n",
    "wine_review_json.shape"
   ]
  },
  {
   "cell_type": "markdown",
   "metadata": {},
   "source": [
    "- The csv file contains 150,930 rows and 11 columns; while\n",
    "- the json formatted file contains 129,971 rows and 13 colums\n",
    "\n",
    "#### A csv formatted file can be indexed by a specific column\n",
    "\n",
    "This means that the column used as index will be the first column in the display\n"
   ]
  },
  {
   "cell_type": "code",
   "execution_count": null,
   "metadata": {},
   "outputs": [],
   "source": [
    "# index by the pprovince column which corresponds to the sixth column/index\n",
    "\n",
    "wine_review_indexed_by_province = pd.read_csv(\"winemag-data_first150k.csv\", index_col=[6])\n",
    "\n",
    "wine_review_indexed_by_province.head()\n"
   ]
  },
  {
   "cell_type": "markdown",
   "metadata": {},
   "source": [
    "### REPEATING SCALAR VALUES USING THE INDEX\n",
    "\n",
    "The number of rows can be constructed based on the the length of the index key.\n",
    "If a scalar value is passed to the column, the the values will be repeated by the length of the index"
   ]
  },
  {
   "cell_type": "code",
   "execution_count": null,
   "metadata": {},
   "outputs": [],
   "source": [
    "simple_df = pd.DataFrame({'A': 1, 'B': 4}, index=[k for k in range(10)])\n",
    "simple_df"
   ]
  },
  {
   "cell_type": "code",
   "execution_count": null,
   "metadata": {},
   "outputs": [],
   "source": [
    "test = pd.Series(10, index=[k for k in range(10)])\n",
    "test"
   ]
  },
  {
   "cell_type": "markdown",
   "metadata": {},
   "source": [
    "### Saving a DataFrame Object \n",
    "A DataFrame object can be saved in a specific file format by calling its |to_method| on the DataFrame Object\n",
    "\n",
    "The file path must be passed as a parameter\n",
    "\n",
    "- **NOTE**: The extension of the file name must be given along with the parameter"
   ]
  },
  {
   "cell_type": "code",
   "execution_count": null,
   "metadata": {},
   "outputs": [],
   "source": [
    "# to save the simple_df in csv and json format\n",
    "\n",
    "# csv\n",
    "df.to_csv('simple_df.csv')\n",
    "\n",
    "# json\n",
    "\n",
    "df.to_json('simple_df.json')"
   ]
  },
  {
   "cell_type": "markdown",
   "metadata": {},
   "source": [
    "## SELECTIONS, INDEXING AND ASSIGNING\n"
   ]
  },
  {
   "cell_type": "markdown",
   "metadata": {},
   "source": [
    "- Selecting specific values of a DataFrame or Series \n",
    "\t- Property of objects are accessed using its attribute\n",
    "\t- Another method is to access it using the column name as index (as in - dictionary key index)\n",
    "\t- Doing this returns a Series object\n",
    "\n",
    "> NOTE: using this accessors method, the order of access is COLUMN-FIRST and ROW-SECOND"
   ]
  },
  {
   "cell_type": "code",
   "execution_count": null,
   "metadata": {},
   "outputs": [],
   "source": [
    "wine_review_indexed_by_province"
   ]
  },
  {
   "cell_type": "code",
   "execution_count": null,
   "metadata": {},
   "outputs": [],
   "source": [
    "# access the country column using attributes\n",
    "\n",
    "wine_review_indexed_by_province.country"
   ]
  },
  {
   "cell_type": "code",
   "execution_count": null,
   "metadata": {},
   "outputs": [],
   "source": [
    "# access the country column using index\n",
    "\n",
    "wine_review_indexed_by_province['country']"
   ]
  },
  {
   "cell_type": "markdown",
   "metadata": {},
   "source": [
    "The advantage of indexing over attribute access lies in the name of the attribute.\n",
    "\n",
    "IF the attribute is a string with space, then it is impossible to use attribute access.\n",
    "\n",
    "- **Index access is more general then Attribute access**"
   ]
  },
  {
   "cell_type": "markdown",
   "metadata": {},
   "source": [
    "## Pandas Indexing\n",
    "For more advanced operations, instead of using the attribute/index access, there are two *accessor operator* for indexing in pandas:\n",
    "\n",
    "-  *loc*\n",
    "- *iloc*\n",
    "\n",
    "It is important to note that while native index/attribute accessors is based on retrieving entire column of data, then rows, it is the reverse with pandas accessors - loc and iloc - that is, rows are accessed first followed by columns"
   ]
  },
  {
   "cell_type": "markdown",
   "metadata": {},
   "source": [
    "#### ILOC\n",
    "It is used to select data based on its numerical position.\n",
    "\n",
    "Instead of returning the column Series object like the native accessors, it will instead return the rows Series object\n",
    "\n",
    "- iloc is ROW-FIRST and COLUMN-SECOND accessors"
   ]
  },
  {
   "cell_type": "code",
   "execution_count": 3,
   "metadata": {},
   "outputs": [],
   "source": [
    "# remove the unamed column by indexing the Dataframe with it\n",
    "wine_review = pd.read_csv('winemag-data_first150k.csv', index_col=[0])"
   ]
  },
  {
   "cell_type": "code",
   "execution_count": null,
   "metadata": {},
   "outputs": [],
   "source": [
    "wine_review.head()"
   ]
  },
  {
   "cell_type": "code",
   "execution_count": null,
   "metadata": {},
   "outputs": [],
   "source": [
    "# return the 10000th row-based Series\n",
    "\n",
    "wine_review.iloc[10000]"
   ]
  },
  {
   "cell_type": "markdown",
   "metadata": {},
   "source": [
    "#### Creating a new DataFrame from another DataFrame using ILOC\n",
    "\n",
    "A new DataFrame can be created from the original DataFrame by using the range indexing\n",
    "\n",
    "- the range indexing will return a row-based DataFrame object with entries depending on the passed range\n",
    "\n",
    "> the pandas iloc range indexing follows native python, where the last value in the specified range is ignored."
   ]
  },
  {
   "cell_type": "code",
   "execution_count": null,
   "metadata": {},
   "outputs": [],
   "source": [
    "# a new Dataframe object containing the first three rows\n",
    "\n",
    "wine_review.iloc[0:3]"
   ]
  },
  {
   "cell_type": "markdown",
   "metadata": {},
   "source": [
    "#### Creating a column-based Series using ILOC\n",
    "\n",
    "A column based Series can be returned by passing another key to the iloc representing the integer index of the column\n",
    "\n",
    "- ROW-FIRST then COLUMN-SECOND"
   ]
  },
  {
   "cell_type": "code",
   "execution_count": null,
   "metadata": {},
   "outputs": [],
   "source": [
    "# access the entire column of the province column\n",
    "\n",
    "# return a dataframe containing the entire dataset - that is access all the rows in the dataset, \n",
    "# then access the province columnn which corresponds to the integer index - 5\n",
    "\n",
    "\n",
    "wine_review.iloc[:, 5]"
   ]
  },
  {
   "cell_type": "code",
   "execution_count": null,
   "metadata": {},
   "outputs": [],
   "source": [
    "# return a Series object containing the first five columns of the description attributes\n",
    "\n",
    "# the description attribute has an integer index - 1\n",
    "wine_review.iloc[0:5, 1]"
   ]
  },
  {
   "cell_type": "markdown",
   "metadata": {},
   "source": [
    "#### Using a list-based instead of a range-based to create a DataFrame\n",
    "\n",
    "Instead of passing a range of values as the first element to the iloc accessor, a list of the required rows can be used.\n",
    "\n",
    "- **This is more flexible than range-based, since one can pass in the specific row numbers of interest**"
   ]
  },
  {
   "cell_type": "code",
   "execution_count": null,
   "metadata": {},
   "outputs": [],
   "source": [
    "# return a DataFrame containing the first, sixth, second and 10th row - in that order\n",
    "\n",
    "wine_review.iloc[[0, 6, 2, 10]]"
   ]
  },
  {
   "cell_type": "code",
   "execution_count": null,
   "metadata": {},
   "outputs": [],
   "source": [
    "# get the description column of the DataFrame above\n",
    "\n",
    "wine_review.iloc[[0, 6, 2, 10], 2]"
   ]
  },
  {
   "cell_type": "markdown",
   "metadata": {},
   "source": [
    "#### Returning the DataFrame in a reversed order using negative values\n",
    "\n",
    "By passing a negative-first range-based to the iloc, the DataFrame returned will be in the reverse order"
   ]
  },
  {
   "cell_type": "code",
   "execution_count": null,
   "metadata": {},
   "outputs": [],
   "source": [
    "# get the last 10 elements in the reverse order\n",
    "\n",
    "wine_review.iloc[-10:]"
   ]
  },
  {
   "cell_type": "markdown",
   "metadata": {},
   "source": [
    "### SUMMARY of ILOC ATTRIBUTE SELECTION\n",
    "\n",
    "- It generally allows indexing into  a DataFrame \n",
    "- It takes two positional elements - \n",
    "\t- the first determines the row(s) of interest, and\n",
    "\t- the second determines the column(s) of the indexed rows\n",
    "\n",
    "> **The first positional elements will return a DataFrame containing the rows of interest**, and **the second will return a Series object containing the columns of interest** in the DataFrame returned by the first positional element\n",
    "\n",
    "the first positional argument can either be a **ranged-based** or a **list of the rows (in integers)** of interest\n",
    "\n",
    "\t"
   ]
  },
  {
   "cell_type": "markdown",
   "metadata": {},
   "source": [
    "-- -"
   ]
  },
  {
   "cell_type": "markdown",
   "metadata": {},
   "source": [
    "### **LABEL-BASED SELECTION - LOC**\n",
    "\n",
    "It also takes two positional arguments - *the second is optional*\n",
    "\n",
    "- scalar integer index - this will return a Series representing the rows of the integer index\n",
    "\n",
    "\n",
    "- range based index- this will return a DataFrame object containing the rows of the range of values\n",
    "\n",
    "\n",
    "- list index- this does the same thing as range-based, although it has the added advantage of being flexible\n",
    "\t- it will return a DataFrame object containing only the rows of the integer-index in the list\n",
    "\n",
    "> **NOTE: the first element of the *loc* accessors perform the same operation as the first element of the *iloc* accessor**\n",
    "\n",
    "> **Also, pandas *loc* indexing does not follow native Python indexing in that, the upper value specified in the range is also returned.**"
   ]
  },
  {
   "cell_type": "markdown",
   "metadata": {},
   "source": [
    "#### SCALAR-BASED INDEXING"
   ]
  },
  {
   "cell_type": "code",
   "execution_count": null,
   "metadata": {},
   "outputs": [],
   "source": [
    "# return a Series object containing the third row of the DataFrame\n",
    "\n",
    "wine_review.loc[2]"
   ]
  },
  {
   "cell_type": "markdown",
   "metadata": {},
   "source": [
    "#### RANGE-BASED INDEXING"
   ]
  },
  {
   "cell_type": "code",
   "execution_count": null,
   "metadata": {},
   "outputs": [],
   "source": [
    "# get the fifth to the tenth rows of tbe DataFrame\n",
    "\n",
    "wine_review.loc[4:9]"
   ]
  },
  {
   "cell_type": "markdown",
   "metadata": {},
   "source": [
    "#### LIST-BASED INDEXING"
   ]
  },
  {
   "cell_type": "code",
   "execution_count": null,
   "metadata": {},
   "outputs": [],
   "source": [
    "# return the 5th, 10th, 200th and 1001th rows of the DataFrame\n",
    "\n",
    "wine_review.loc[[4, 9, 199, 1000]]"
   ]
  },
  {
   "cell_type": "code",
   "execution_count": null,
   "metadata": {},
   "outputs": [],
   "source": [
    "wine_review.loc[0, 'country'] == wine_review.iloc[0, 0]"
   ]
  },
  {
   "cell_type": "code",
   "execution_count": null,
   "metadata": {},
   "outputs": [],
   "source": [
    "\n",
    "wine_review.loc[wine_review.country == 'US']"
   ]
  },
  {
   "cell_type": "markdown",
   "metadata": {},
   "source": [
    "### LOC SECOND POSITIONAL ELEMENT\n",
    "\n",
    "While the first position return a row-based Series/DataFrame object, the second elements will return a column-based value/Series/DataFrame object depending on how the second positional element is passed\n",
    "\n",
    "> The first positional element can be an expression that evaluates to a boolean value\n",
    "---\n",
    "\n",
    "Unlike iloc where the second position is an integer, the second position of loc is the data label value (or attribute) which can come in two form\n",
    "\n",
    "- a scalar data label value: this will return \n",
    "\t-  value of the data index corresponding to the row, if the first positional element returns a Series object\n",
    "\n",
    "\n",
    "\t- a Series object of the data label corresponding to the elements of the same column returned by the first positional element\n",
    "\n",
    "- a list of data label: this will return\n",
    "\n",
    "\t- a Series object that corresponds to elements of the rows having the data label (attribute) in the list, IF the first element returns a Series object\n",
    "\n",
    "\t- a DataFrame object containing the rows of elements indexed by the list, IF the first element returns a DataFrame object\n",
    "\n",
    "\n",
    "---\n",
    "\n",
    "\n",
    "> A value/Series/DataFrame object is returned depending on the result of the first positional element"
   ]
  },
  {
   "cell_type": "markdown",
   "metadata": {},
   "source": [
    "#### VALUE, IF the first element returns a Series Object"
   ]
  },
  {
   "cell_type": "code",
   "execution_count": null,
   "metadata": {},
   "outputs": [],
   "source": [
    "# get a value of the description attribute (data index) of the 150th row\n",
    "\n",
    "wine_review.loc[147, 'description']"
   ]
  },
  {
   "cell_type": "markdown",
   "metadata": {},
   "source": [
    "#### SERIES if the first element returned a DataFrame"
   ]
  },
  {
   "cell_type": "code",
   "execution_count": null,
   "metadata": {},
   "outputs": [],
   "source": [
    "# get the series containing the description data index of the first five rows\n",
    "\n",
    "wine_review.loc[0:4, 'description']"
   ]
  },
  {
   "cell_type": "markdown",
   "metadata": {},
   "source": [
    "#### SERIES if the first element returns a DataFrame"
   ]
  },
  {
   "cell_type": "code",
   "execution_count": null,
   "metadata": {},
   "outputs": [],
   "source": [
    "# get the series containing the description and province data index of the first row\n",
    "\n",
    "wine_review.loc[0, ['description', 'province']]"
   ]
  },
  {
   "cell_type": "markdown",
   "metadata": {},
   "source": [
    "#### DataFrame if the first element returned is a DataFrame"
   ]
  },
  {
   "cell_type": "code",
   "execution_count": null,
   "metadata": {},
   "outputs": [],
   "source": [
    "# get the Dataframe containing the description,province and price data index of the 12th, 40th, 144th and 1201th rows\n",
    "\n",
    "wine_review.loc[[11, 39, 143, 1200], ['description', 'province', 'price']]"
   ]
  },
  {
   "cell_type": "markdown",
   "metadata": {},
   "source": [
    "#### Using the ILOC experessions below, we obtain the same this as above\n",
    "\n",
    "We note how flexible the LOC expression is with respect to the second positional argument. \n",
    "\n",
    "Instead of using integer index of the attributes as in iloc, the attribute name is used in loc"
   ]
  },
  {
   "cell_type": "code",
   "execution_count": null,
   "metadata": {},
   "outputs": [],
   "source": [
    "wine_review.iloc[[11, 39, 143, 1200], [1, 5, 4]]"
   ]
  },
  {
   "cell_type": "markdown",
   "metadata": {},
   "source": [
    "#### Range-Based Indexing using the second positional element of LOC\n",
    "\n",
    " It is possbile to perform a range based index using the second positional argument. \n",
    "\n",
    "> the order of the range is preserved and include the endpoints"
   ]
  },
  {
   "cell_type": "code",
   "execution_count": null,
   "metadata": {},
   "outputs": [],
   "source": [
    "wine_review.loc[10, 'description':'province']"
   ]
  },
  {
   "cell_type": "markdown",
   "metadata": {},
   "source": [
    "### Difference Between ILOC and LOC\n",
    "\n",
    "The indexing scheme used by ILOC is the same as native Python. LOC on the other hand will include the last index of the range"
   ]
  },
  {
   "cell_type": "markdown",
   "metadata": {},
   "source": [
    "USING ILOC"
   ]
  },
  {
   "cell_type": "code",
   "execution_count": null,
   "metadata": {},
   "outputs": [],
   "source": [
    "# this will return a DataFrame starting from the 1st integer index to the 4th - it excludes the 5th\n",
    "\n",
    "wine_review.iloc[0:5]"
   ]
  },
  {
   "cell_type": "markdown",
   "metadata": {},
   "source": [
    "USING LOC"
   ]
  },
  {
   "cell_type": "code",
   "execution_count": null,
   "metadata": {},
   "outputs": [],
   "source": [
    "# this will return a DataFrame starting from the 1st integer index to the 5th - it does NOT excludes the 5th\n",
    "\n",
    "wine_review.loc[0:5]"
   ]
  },
  {
   "cell_type": "markdown",
   "metadata": {},
   "source": [
    "### INDEX MANIPULATION\n",
    "The index column can be mutated by using any of the columns in the DataFrame\n",
    "\n",
    "By using the set_index(|index attribut|) method on the DataFrame. This is equivalent to using the |index_col| argument in the read_|file format| of the pandas method.\n",
    "\n",
    "> the read_|file format| only works with csv formatted files, while the set_index(|index attribute|) works on any file format"
   ]
  },
  {
   "cell_type": "code",
   "execution_count": null,
   "metadata": {},
   "outputs": [],
   "source": [
    "wine_review"
   ]
  },
  {
   "cell_type": "code",
   "execution_count": null,
   "metadata": {},
   "outputs": [],
   "source": [
    "# index the DataFrame using the region_1 attribute\n",
    "\n",
    "wine_review.set_index('region_1')"
   ]
  },
  {
   "cell_type": "markdown",
   "metadata": {},
   "source": [
    "## CONDITIONAL SELECTION\n",
    "While all the previous expressions indexed the DataFrame using the **structural properties** of the DataFame itself, it is possible to index the DataFrame based on conditional properties satisfied the DataFrame"
   ]
  },
  {
   "cell_type": "code",
   "execution_count": null,
   "metadata": {},
   "outputs": [],
   "source": [
    "wine_review.head()"
   ]
  },
  {
   "cell_type": "code",
   "execution_count": null,
   "metadata": {},
   "outputs": [],
   "source": [
    "# return the DataFrame if the country is Spain\n",
    "\n",
    "wine_review.loc[wine_review.country == 'Spain']"
   ]
  },
  {
   "cell_type": "code",
   "execution_count": null,
   "metadata": {},
   "outputs": [],
   "source": [
    "# return  the Series containing the provinces of all the rows if the country is Spain\n",
    "\n",
    "wine_review.loc[wine_review.country == 'Spain', 'province']"
   ]
  },
  {
   "cell_type": "code",
   "execution_count": null,
   "metadata": {},
   "outputs": [],
   "source": [
    "# return the DataFrame containing the province and descripton of all the rows IF the country is Spain\n",
    "\n",
    "wine_review.loc[wine_review.country == 'Spain', ['province', 'description']]"
   ]
  },
  {
   "cell_type": "code",
   "execution_count": null,
   "metadata": {},
   "outputs": [],
   "source": [
    "# return  the DataFrame containing province and region_1 of all the rows IF country is Spain, AND the region_1 is NOT Toro AND the price is less than `0` dollars\n",
    "\n",
    "wine_review.loc[(wine_review.country == 'Spain') & (wine_review.region_1 != 'Toro') & (wine_review.price < 10), ['province', 'region_1']]"
   ]
  },
  {
   "cell_type": "code",
   "execution_count": null,
   "metadata": {},
   "outputs": [],
   "source": [
    "# return the 1st, 10th and 20th element of the row of the result above\n",
    "\n",
    "(wine_review.loc[(wine_review.country == 'Spain') & (wine_review.region_1 != 'Toro') & (wine_review.price < 10), ['province', 'region_1']]).iloc[[1, 10, 20]]"
   ]
  },
  {
   "cell_type": "code",
   "execution_count": null,
   "metadata": {},
   "outputs": [],
   "source": [
    "# return the DataFrame containing country,  description, and province IF it is made in Spain, AND its region_ is TORO OR rated (points) is above average ( >=90)\n",
    "\n",
    "wine_review.loc[\n",
    "  (wine_review.country == 'Spain') & \n",
    "  ((wine_review.region_1 == 'Toro') |\n",
    "  (wine_review.points >= 90)), \n",
    "  ['country', 'description', 'province', 'points', 'region_1']\n",
    "  ]"
   ]
  },
  {
   "cell_type": "markdown",
   "metadata": {},
   "source": [
    "### ISIN CONDITIONAL SELECTOR METHOD\n",
    "\n",
    "Selects data whose values **is in** a list of of values"
   ]
  },
  {
   "cell_type": "code",
   "execution_count": null,
   "metadata": {},
   "outputs": [],
   "source": [
    "# select wines from Spain or US, and return their country, province, price and rating (points)\n",
    "\n",
    "wine_review.loc[\n",
    "  wine_review.country.isin(['Spain', 'US']), \n",
    "  ['country', 'province', 'price', 'points']]"
   ]
  },
  {
   "cell_type": "code",
   "execution_count": null,
   "metadata": {},
   "outputs": [],
   "source": [
    "# select wines from Spain or US, and return the DataFrame containing country, province, price, points, IF its price is less than 10 and greater than 4 dollars, and it is rated above average (>= 90)\n",
    "\n",
    "wine_review.loc[\n",
    "  (wine_review.country.isin(['Spain', 'US'])) & \n",
    "  (wine_review.price.isin([k + 1 for k in range(4, 9)])) &\n",
    "  (wine_review.points >= 90),\n",
    "  \n",
    "  ['country', 'province', 'price', 'points']\n",
    "  ]"
   ]
  },
  {
   "cell_type": "code",
   "execution_count": null,
   "metadata": {},
   "outputs": [],
   "source": [
    "# we can do  the same operation without using the ISIN operator method\n",
    "\n",
    "wine_review.loc[\n",
    "  ((wine_review.country == 'Spain') |\n",
    "  (wine_review.country == 'US') )&\n",
    "  (wine_review.price > 4) &\n",
    "  (wine_review.price < 10) &\n",
    "  (wine_review.points >= 90),\n",
    "  \n",
    "  ['country', 'province', 'price', 'points']\n",
    "]"
   ]
  },
  {
   "cell_type": "markdown",
   "metadata": {},
   "source": [
    "Using the **isin** operator method amounts to less written code as shown above\n",
    "\n",
    "---"
   ]
  },
  {
   "cell_type": "markdown",
   "metadata": {},
   "source": [
    "#### ISNULL or NOTNULL CONDITIONAL SELECTOR METHOD\n",
    "\n",
    "This can be used to highlight values in a list of values if they are/ are not empty (NaN)"
   ]
  },
  {
   "cell_type": "code",
   "execution_count": null,
   "metadata": {},
   "outputs": [],
   "source": [
    "# selects price in the DataFrame that is null\n",
    "\n",
    "wine_review.loc[wine_review.price.isnull()]"
   ]
  },
  {
   "cell_type": "code",
   "execution_count": null,
   "metadata": {},
   "outputs": [],
   "source": [
    "# selects province in the DataFrame whose values is Null\n",
    "wine_review.loc[wine_review['province'].isnull()]"
   ]
  },
  {
   "cell_type": "code",
   "execution_count": null,
   "metadata": {},
   "outputs": [],
   "source": [
    "# selects province whose region_2 is not null\n",
    "\n",
    "wine_review.loc[wine_review.region_2.notnull()]"
   ]
  },
  {
   "cell_type": "markdown",
   "metadata": {},
   "source": [
    "### ASSIGNING DATA\n",
    "\n",
    "Data can be assigned to a DataFrame by using the dictionary key value variable assignment method.\n",
    "- the key will serve as the data label (or column name) or attribute of the data to be assigned\n",
    "\n",
    "- the value will represent the value of the element in each row\n",
    "---\n",
    "A value comes in two forms:\n",
    "- a constant values assigned to all the rows of that column (key)\n",
    "\n",
    "- an iterable value [that must match the number of rows of the DataFrame]"
   ]
  },
  {
   "cell_type": "code",
   "execution_count": null,
   "metadata": {},
   "outputs": [],
   "source": [
    "# create a new DataFrame from the wine_review, \n",
    "# containing the first 10 rows and \n",
    "# the following columns: country, province, price\n",
    "\n",
    "wr = wine_review.loc[0:9, ['country', 'province', 'price']]\n",
    "wr"
   ]
  },
  {
   "cell_type": "code",
   "execution_count": null,
   "metadata": {},
   "outputs": [],
   "source": [
    "# assign a new column named continent \n",
    "# the values of the new column should be\n",
    "# North America if country is US, or Europe if in Europe\n",
    "\n",
    "wr['continent'] = 'West'\n",
    "\n",
    "for i, ctry in enumerate(wr.country):\n",
    "  if ctry == 'US':\n",
    "    # this method sees the chained index as two different operations\n",
    "    # wr['continent'][i] = 'North America'\n",
    "    \n",
    "    # this sees them as the same operation, hence better\n",
    "    wr.loc[i, 'continent'] = 'North America'\n",
    "    \n",
    "    continue\n",
    "  # wr['continent'][i] = 'Europe'\n",
    "  wr.loc[i, 'continent'] = 'Europe'\n",
    "\n",
    "# wr['continent'][1] = 'Europe'\n",
    "wr"
   ]
  },
  {
   "cell_type": "markdown",
   "metadata": {},
   "source": [
    "# SUMMARY FUNCTIONS & MAPS\n",
    "\n",
    "This is a more advanced and flexible way of selecting, indexing and assigning (a/to) DataFrame when compared with using the *iloc* and *loc* accessor operators\n",
    "\n",
    "This is achieved by applying functions to extract insigths from the DataFrame or Series. "
   ]
  },
  {
   "cell_type": "code",
   "execution_count": null,
   "metadata": {},
   "outputs": [],
   "source": [
    "wine_review = pd.read_csv('winemag-data-130k-v2.csv', index_col=0)\n",
    "\n",
    "wine_review.head()"
   ]
  },
  {
   "cell_type": "markdown",
   "metadata": {},
   "source": [
    "### Summary Functions\n",
    " \n",
    "These are functions that helps summarize a DataFrame/Series by restructuring it in certains way.\n",
    "\n",
    "- Examples of Summary Functions\n",
    "---\n",
    "---\n",
    "\n",
    "\n",
    "#### Describe method:\n",
    "\n",
    "Generates a high level summary of attributes in a given column, based on the **type of data in that column**\n",
    "\n",
    "\n",
    "- If the type of data is a string, it provides:\n",
    "\n",
    "\t- the total element in the column excluding the empty (NaN)\n",
    "\n",
    "\t- the number of *unique* elements in that column, \n",
    "\n",
    "\t- the element with the highest frequency,\n",
    "\n",
    "\t- the frequency of the element having the highest frequency\n",
    "---\n",
    "- If the type of data in the column is numeric, it provides:\n",
    "\n",
    "\t- the total number of elements in the column excluding the empty ones (NaN)\n",
    "\n",
    "\t- the mean (average) of the data in the column\n",
    "\n",
    "\t- the standard deviation of the data\n",
    "\n",
    "\t- the maximum element in the data\n",
    "\n",
    "\t- the quantile\n",
    "\n"
   ]
  },
  {
   "cell_type": "code",
   "execution_count": null,
   "metadata": {},
   "outputs": [],
   "source": [
    "# generate a summary of the data in the country column- string type elements\n",
    "\n",
    "wine_review.country.describe()\n",
    "\n",
    "# The result shows we have 43 unique countries in the dataset\n",
    "# the countries with the highest frequency is US, with a frequency of 54,504"
   ]
  },
  {
   "cell_type": "code",
   "execution_count": null,
   "metadata": {},
   "outputs": [],
   "source": [
    "# generate a summary of the data in the price column - numeric type elements\n",
    "\n",
    "wine_review.price.describe()\n",
    "\n"
   ]
  },
  {
   "cell_type": "markdown",
   "metadata": {},
   "source": [
    "#### UNIQUE METHOD\n",
    "\n",
    "- UNIQUE: the number unique elements for a string and numeric data type\n"
   ]
  },
  {
   "cell_type": "code",
   "execution_count": null,
   "metadata": {},
   "outputs": [],
   "source": [
    "# get the unique elements in the province attribute\n",
    "\n",
    "wine_review.province.unique()"
   ]
  },
  {
   "cell_type": "markdown",
   "metadata": {},
   "source": [
    "#### MEAN METHOD\n",
    "\n",
    "\n",
    "- MEAN: returns the mean of the numeric datas\n"
   ]
  },
  {
   "cell_type": "code",
   "execution_count": null,
   "metadata": {},
   "outputs": [],
   "source": [
    "# get the mean of the rating (points)\n",
    "\n",
    "wine_review.points.mean()"
   ]
  },
  {
   "cell_type": "markdown",
   "metadata": {},
   "source": [
    "#### VALUE_COUNTS METHOD\n",
    "\n",
    "- VALUE_COUNT: returns the unique element(s) and their corresponding frequency"
   ]
  },
  {
   "cell_type": "code",
   "execution_count": null,
   "metadata": {},
   "outputs": [],
   "source": [
    "# get the unique elements and the value count of the country column\n",
    "\n",
    "wine_review.country.value_counts()"
   ]
  },
  {
   "cell_type": "markdown",
   "metadata": {},
   "source": [
    "---\n",
    "---\n",
    "## MAPS\n",
    "\n",
    "This is used to transform or change the representation of data to another form(at).\n",
    "\n",
    "- There are two ways to transform a data - maps and apply\n",
    "\n",
    "---\n",
    "\n",
    "### MAPS method\n",
    "\n",
    "Takes a function as argument and apply the function to each data points\n",
    "\n",
    "> **This works on Series object**"
   ]
  },
  {
   "cell_type": "code",
   "execution_count": null,
   "metadata": {},
   "outputs": [],
   "source": [
    "# transform the data points in the rating (points) column by removing its mean from each data point\n",
    "\n",
    "mean = wine_review.points.mean()\n",
    "\n",
    "wine_review.points.map(lambda pt_col: pt_col - mean)"
   ]
  },
  {
   "cell_type": "markdown",
   "metadata": {},
   "source": [
    "### APPLY METHOD\n",
    "\n",
    "The apply method unlike the map method that works of Series object, transforms a **DataFrame** by **applying the trasformation (function) on each rows of the DataFrame**\n",
    "\n",
    "The apply method takes a second key value pair parameter, with key named *axis*, whose values is either *columns* or *rows* (or index). The default is rows/index. This indicates how the method should transform the data.\n",
    "\n",
    "- IF the value is rows or index, then the transformation would apply to each rows of the data\n",
    "\n",
    "- IF value is set to columns, then the transformation would apply to each column of the data\n",
    "\n",
    "> The descriptions above isn't the correct picture. If the **rows/index** value is passed to axis, *the apply method returns each rows of the DataFrame* **but the transformation is applied to the data points in each column**. On the other hand, if the **columns** value had been passed, then  *each columns of the DataFrame is returned* **but the transformation is applied to the data points in each row.**\n",
    "\n",
    "---\n",
    "\n",
    "The value can also be an integer:\n",
    "-  where 0 is mapped to rows/index and\n",
    "-  1 is mapped to columns\n"
   ]
  },
  {
   "cell_type": "code",
   "execution_count": null,
   "metadata": {},
   "outputs": [],
   "source": [
    "wine_review.apply(lambda col: str(col.province) + ' ' +  str(col.price), axis=1).value_counts()"
   ]
  },
  {
   "cell_type": "code",
   "execution_count": null,
   "metadata": {},
   "outputs": [],
   "source": [
    "# transform the data points in the region_1 column by appending the country to it\n",
    "\n",
    "t = wine_review.apply(lambda row: str(row.region_1) + ' ' + str(row.country), axis='columns')\n",
    "\n",
    "t\n",
    "\n",
    "# the results t above showed that there are empty data points in the column, region_1"
   ]
  },
  {
   "cell_type": "code",
   "execution_count": null,
   "metadata": {},
   "outputs": [],
   "source": [
    "# remove all the data points with nan above in t\n",
    "\n",
    "# first we know it is only the region_1 label that gives a nan\n",
    "# so we remove those data points from the DataFrame\n",
    "cleaned = wine_review.loc[wine_review.region_1.notnull()]\n",
    "\n",
    "# we transform the DataFrame so as to concatenate the region_1 and country of the cleaned DataFrame\n",
    "cleaned.apply(lambda col: col.region_1 + ' - ' + col.country, axis=1)"
   ]
  },
  {
   "cell_type": "markdown",
   "metadata": {},
   "source": [
    "#### ! Both the MAP and APPLY methods does NOT CHANGE the ORIGINAL DATA IN PLACE\n",
    "\n",
    "They return a new DataFrame instead"
   ]
  },
  {
   "cell_type": "markdown",
   "metadata": {},
   "source": [
    "# IMPORTANT ADVICE\n",
    "\n",
    "Clean the DataFrame before applying any Transformation, and not the other way around"
   ]
  },
  {
   "cell_type": "code",
   "execution_count": null,
   "metadata": {},
   "outputs": [],
   "source": [
    "def average_wine(col):\n",
    "  if col.points >= 90:\n",
    "    return col.country\n",
    "\n",
    "wine_review.apply(average_wine, axis=1)"
   ]
  },
  {
   "cell_type": "markdown",
   "metadata": {},
   "source": [
    "### SUMMARY\n",
    "\n",
    "##### Selection and Indexing: \n",
    "- Based on DataFrame Structure: *loc*, *iloc*\n",
    "- Based on Conditional expessions: \t- *isnull*, *notnull*, *isin*\n",
    "\n",
    "##### Summary Functions:\n",
    "- *map* method: takes a series and transform the data points based on the passed function\n",
    "- *apply* method: takes a DataFrame and transforms every row/column based on the function passed\n",
    "-- -\n",
    "- --"
   ]
  },
  {
   "cell_type": "markdown",
   "metadata": {},
   "source": [
    "# GROUPING and SORTING\n",
    "\n",
    "This allows one to perform operations on a *group* of a data in a DataFrame. Unlike the Map and Apply that perform a transformation on *each value* of the DataFrame/Series at a time.\n",
    "\n",
    "### Grouping\n",
    "- This takes the entire datapoints in a column and perform certain operations by grouping  the data "
   ]
  },
  {
   "cell_type": "markdown",
   "metadata": {},
   "source": [
    "### GROUPBY\n",
    "This sorts the data based on the datapoints that falls into the category of the grouping\n",
    "\n",
    "- The groupby method takes its first positional parameter (which can be a single value or list of values), which determines how the data is to be grouped\n",
    "\n",
    "- The DataFrame that result from the grouping is such that, it is indexed by the label used in the grouping. Rows/DataPoints that falls are then grouped together under the same label.\n",
    "\n",
    "### Any transformation on the grouped result, will be applied first to each group, followed by each elements of the group. e.g. if the first element is to be selected, the selection will be such that all the first elements from each category/group will be returned."
   ]
  },
  {
   "cell_type": "markdown",
   "metadata": {},
   "source": [
    "### AGG FUNCTION\n",
    "\n",
    "This method takes a list of functions that will be applied to the result of a grouped DataFrame"
   ]
  },
  {
   "cell_type": "code",
   "execution_count": null,
   "metadata": {},
   "outputs": [],
   "source": [
    "# group the dataframe by country and province, and determine the first elements of the group\n",
    "\n",
    "wine_review.groupby(['country', 'points']).apply(lambda df: df.iloc[0])"
   ]
  },
  {
   "cell_type": "code",
   "execution_count": 115,
   "metadata": {},
   "outputs": [
    {
     "data": {
      "text/html": [
       "<div>\n",
       "<style scoped>\n",
       "    .dataframe tbody tr th:only-of-type {\n",
       "        vertical-align: middle;\n",
       "    }\n",
       "\n",
       "    .dataframe tbody tr th {\n",
       "        vertical-align: top;\n",
       "    }\n",
       "\n",
       "    .dataframe thead th {\n",
       "        text-align: right;\n",
       "    }\n",
       "</style>\n",
       "<table border=\"1\" class=\"dataframe\">\n",
       "  <thead>\n",
       "    <tr style=\"text-align: right;\">\n",
       "      <th></th>\n",
       "      <th></th>\n",
       "      <th>min</th>\n",
       "      <th>max</th>\n",
       "    </tr>\n",
       "    <tr>\n",
       "      <th>country</th>\n",
       "      <th>points</th>\n",
       "      <th></th>\n",
       "      <th></th>\n",
       "    </tr>\n",
       "  </thead>\n",
       "  <tbody>\n",
       "    <tr>\n",
       "      <th>Albania</th>\n",
       "      <th>88</th>\n",
       "      <td>20.0</td>\n",
       "      <td>20.0</td>\n",
       "    </tr>\n",
       "    <tr>\n",
       "      <th rowspan=\"4\" valign=\"top\">Argentina</th>\n",
       "      <th>80</th>\n",
       "      <td>5.0</td>\n",
       "      <td>72.0</td>\n",
       "    </tr>\n",
       "    <tr>\n",
       "      <th>81</th>\n",
       "      <td>6.0</td>\n",
       "      <td>36.0</td>\n",
       "    </tr>\n",
       "    <tr>\n",
       "      <th>82</th>\n",
       "      <td>5.0</td>\n",
       "      <td>34.0</td>\n",
       "    </tr>\n",
       "    <tr>\n",
       "      <th>83</th>\n",
       "      <td>5.0</td>\n",
       "      <td>75.0</td>\n",
       "    </tr>\n",
       "    <tr>\n",
       "      <th>...</th>\n",
       "      <th>...</th>\n",
       "      <td>...</td>\n",
       "      <td>...</td>\n",
       "    </tr>\n",
       "    <tr>\n",
       "      <th rowspan=\"5\" valign=\"top\">Uruguay</th>\n",
       "      <th>86</th>\n",
       "      <td>12.0</td>\n",
       "      <td>35.0</td>\n",
       "    </tr>\n",
       "    <tr>\n",
       "      <th>87</th>\n",
       "      <td>15.0</td>\n",
       "      <td>30.0</td>\n",
       "    </tr>\n",
       "    <tr>\n",
       "      <th>88</th>\n",
       "      <td>16.0</td>\n",
       "      <td>46.0</td>\n",
       "    </tr>\n",
       "    <tr>\n",
       "      <th>89</th>\n",
       "      <td>23.0</td>\n",
       "      <td>60.0</td>\n",
       "    </tr>\n",
       "    <tr>\n",
       "      <th>90</th>\n",
       "      <td>45.0</td>\n",
       "      <td>57.0</td>\n",
       "    </tr>\n",
       "  </tbody>\n",
       "</table>\n",
       "<p>455 rows × 2 columns</p>\n",
       "</div>"
      ],
      "text/plain": [
       "                   min   max\n",
       "country   points            \n",
       "Albania   88      20.0  20.0\n",
       "Argentina 80       5.0  72.0\n",
       "          81       6.0  36.0\n",
       "          82       5.0  34.0\n",
       "          83       5.0  75.0\n",
       "...                ...   ...\n",
       "Uruguay   86      12.0  35.0\n",
       "          87      15.0  30.0\n",
       "          88      16.0  46.0\n",
       "          89      23.0  60.0\n",
       "          90      45.0  57.0\n",
       "\n",
       "[455 rows x 2 columns]"
      ]
     },
     "execution_count": 115,
     "metadata": {},
     "output_type": "execute_result"
    }
   ],
   "source": [
    "# apply the min and max function to the price label based on the grouping above\n",
    "\n",
    "wine_review.groupby(['country', 'points']).price.agg([min, max])\n"
   ]
  },
  {
   "cell_type": "markdown",
   "metadata": {},
   "source": [
    "## SORTING\n",
    "\n"
   ]
  }
 ],
 "metadata": {
  "kernelspec": {
   "display_name": "Python 3",
   "language": "python",
   "name": "python3"
  },
  "language_info": {
   "codemirror_mode": {
    "name": "ipython",
    "version": 3
   },
   "file_extension": ".py",
   "mimetype": "text/x-python",
   "name": "python",
   "nbconvert_exporter": "python",
   "pygments_lexer": "ipython3",
   "version": "3.10.12"
  }
 },
 "nbformat": 4,
 "nbformat_minor": 2
}
